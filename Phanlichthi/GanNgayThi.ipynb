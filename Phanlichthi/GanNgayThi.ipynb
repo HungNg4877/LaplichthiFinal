{
 "cells": [
  {
   "cell_type": "code",
   "execution_count": 2,
   "metadata": {},
   "outputs": [
    {
     "name": "stderr",
     "output_type": "stream",
     "text": [
      "<>:3: SyntaxWarning: invalid escape sequence '\\B'\n",
      "<>:8: SyntaxWarning: invalid escape sequence '\\B'\n",
      "<>:3: SyntaxWarning: invalid escape sequence '\\B'\n",
      "<>:8: SyntaxWarning: invalid escape sequence '\\B'\n",
      "C:\\Users\\Admin\\AppData\\Local\\Temp\\ipykernel_22544\\574092740.py:3: SyntaxWarning: invalid escape sequence '\\B'\n",
      "  file_path_1 = 'D:\\Báo cáo tốt nghiệp\\Du lieu\\Ket qua dau ra\\Output xep lich thi\\Output Phâncathi.xlsx'\n",
      "C:\\Users\\Admin\\AppData\\Local\\Temp\\ipykernel_22544\\574092740.py:8: SyntaxWarning: invalid escape sequence '\\B'\n",
      "  file_path_2 = 'D:\\Báo cáo tốt nghiệp\\Du lieu\\Du lieu dau vao\\Dữ liệu ngày thi.xlsx'\n"
     ]
    }
   ],
   "source": [
    "import pandas as pd\n",
    "# Đường dẫn đến tệp Excel\n",
    "file_path_1 = 'D:\\Báo cáo tốt nghiệp\\Du lieu\\Ket qua dau ra\\Output xep lich thi\\Output Phâncathi.xlsx'\n",
    "\n",
    "# Đọc dữ liệu từ tệp Excel\n",
    "df_1 = pd.read_excel(file_path_1)\n",
    "#\n",
    "file_path_2 = 'D:\\Báo cáo tốt nghiệp\\Du lieu\\Du lieu dau vao\\Dữ liệu ngày thi.xlsx'\n",
    "\n",
    "# Đọc dữ liệu từ tệp Excel\n",
    "df_2 = pd.read_excel(file_path_2)"
   ]
  },
  {
   "cell_type": "code",
   "execution_count": 8,
   "metadata": {},
   "outputs": [
    {
     "name": "stdout",
     "output_type": "stream",
     "text": [
      "['7h', '9h', '13h30', '15h30', 0]\n"
     ]
    }
   ],
   "source": [
    "import numpy \n",
    "import pandas as pd\n",
    "import math\n",
    "\n",
    "def assign_calender(df_1, df_2, shift_per_day):\n",
    "    df_1['Ngày thi'] = \"\"\n",
    "    df_1['Giờ thi'] =\"\"\n",
    "    count_shifts = sorted(df_1['Ca thi'].unique())\n",
    "    count_shifts_len=len(count_shifts)\n",
    "    count_day = df_2['Ngày thi'].unique()\n",
    "    count_time=df_2['Giờ thi'].fillna(0).unique().tolist()\n",
    "    day_needed=math.ceil(count_shifts_len/shift_per_day)\n",
    "    \n",
    "    \n",
    "    shifts_per_day = []\n",
    "    for i in range(day_needed):\n",
    "        shifts_per_day.append(count_shifts[i * shift_per_day : (i + 1) * shift_per_day])\n",
    "\n",
    "        \n",
    "    assigned_day=0\n",
    "    for day in (count_day):\n",
    "        if assigned_day == day_needed:\n",
    "            break\n",
    "        for shift in shifts_per_day[assigned_day]:\n",
    "            available_shifts = df_1[(df_1['Ca thi'] == shift) & (df_1['Ngày thi'] == '')]\n",
    "            # available_shifts_count = len(available_shifts)\n",
    "            #\n",
    "            df_1.loc[available_shifts.index, 'Ngày thi'] = day\n",
    "\n",
    "            df_1.loc[available_shifts.index, 'Giờ thi'] = count_time[(shift-1) % shift_per_day] # Chia lấy dư\n",
    "\n",
    "            \n",
    "\n",
    "            \n",
    "        assigned_day+=1\n",
    "    df_1['Ngày thi'] = pd.to_datetime(df_1['Ngày thi'])\n",
    "    df_1['Ngày thi'] = df_1['Ngày thi'].dt.strftime(\"%d/%m/%Y\") \n",
    "    \n",
    "\n",
    "shift_per_day=4\n",
    "assign_calender(df_1, df_2, shift_per_day)\n"
   ]
  },
  {
   "cell_type": "code",
   "execution_count": 5,
   "metadata": {},
   "outputs": [
    {
     "name": "stdout",
     "output_type": "stream",
     "text": [
      "           Lớp    MSV Mã học phần                        Tên học phần  \\\n",
      "0      46K23.1      1     HOS3010  An ninh và an toàn trong khách sạn   \n",
      "1      46K23.1      2     HOS3010  An ninh và an toàn trong khách sạn   \n",
      "2      46K23.1      3     HOS3010  An ninh và an toàn trong khách sạn   \n",
      "3      46K23.1      4     HOS3010  An ninh và an toàn trong khách sạn   \n",
      "4      46K23.1      5     HOS3010  An ninh và an toàn trong khách sạn   \n",
      "...        ...    ...         ...                                 ...   \n",
      "48000  47K13.2  12609     LAW3040          Xây dựng văn bản pháp luật   \n",
      "48001  47K13.2  12610     LAW3040          Xây dựng văn bản pháp luật   \n",
      "48002  47K13.2  12611     LAW3040          Xây dựng văn bản pháp luật   \n",
      "48003  47K13.2   2274     LAW3040          Xây dựng văn bản pháp luật   \n",
      "48004  47K13.2  12432     LAW3040          Xây dựng văn bản pháp luật   \n",
      "\n",
      "      Đề thi TA  Số tín chỉ     Lớp học phần Loại đăng ký  HP miễn ngoại ngữ  \\\n",
      "0           NaN           2  HOS3010_46K23.1  Học lần đầu                NaN   \n",
      "1           NaN           2  HOS3010_46K23.1  Học lần đầu                NaN   \n",
      "2           NaN           2  HOS3010_46K23.1  Học lần đầu                NaN   \n",
      "3           NaN           2  HOS3010_46K23.1  Học lần đầu                NaN   \n",
      "4           NaN           2  HOS3010_46K23.1  Học lần đầu                NaN   \n",
      "...         ...         ...              ...          ...                ...   \n",
      "48000       NaN           2  LAW3040_47K13.2  Học lần đầu                NaN   \n",
      "48001       NaN           2  LAW3040_47K13.2  Học lần đầu                NaN   \n",
      "48002       NaN           2  LAW3040_47K13.2  Học lần đầu                NaN   \n",
      "48003       NaN           2  LAW3040_47K13.2  Học lần đầu                NaN   \n",
      "48004       NaN           2  LAW3040_47K13.2  Học lần đầu                NaN   \n",
      "\n",
      "      Ghi chú           Hình thức thi Mã học phần mở rộng  MSV mở rộng  \\\n",
      "0         NaN  Thi viết (Trắc nghiệm)             HOS3010            1   \n",
      "1         NaN  Thi viết (Trắc nghiệm)             HOS3010            2   \n",
      "2         NaN  Thi viết (Trắc nghiệm)             HOS3010            3   \n",
      "3         NaN  Thi viết (Trắc nghiệm)             HOS3010            4   \n",
      "4         NaN  Thi viết (Trắc nghiệm)             HOS3010            5   \n",
      "...       ...                     ...                 ...          ...   \n",
      "48000     NaN      Thi viết (Tự luận)             LAW3040        12609   \n",
      "48001     NaN      Thi viết (Tự luận)             LAW3040        12610   \n",
      "48002     NaN      Thi viết (Tự luận)             LAW3040        12611   \n",
      "48003     NaN      Thi viết (Tự luận)             LAW3040         2274   \n",
      "48004     NaN      Thi viết (Tự luận)             LAW3040        12432   \n",
      "\n",
      "       Ca thi    Ngày thi Giờ thi  \n",
      "0          27  25/12/2023   13h30  \n",
      "1          27  25/12/2023   13h30  \n",
      "2          27  25/12/2023   13h30  \n",
      "3          27  25/12/2023   13h30  \n",
      "4          27  25/12/2023   13h30  \n",
      "...       ...         ...     ...  \n",
      "48000      33  27/12/2023      7h  \n",
      "48001      33  27/12/2023      7h  \n",
      "48002      33  27/12/2023      7h  \n",
      "48003      33  27/12/2023      7h  \n",
      "48004      33  27/12/2023      7h  \n",
      "\n",
      "[48005 rows x 16 columns]\n"
     ]
    }
   ],
   "source": [
    "print(df_1)"
   ]
  },
  {
   "cell_type": "code",
   "execution_count": 6,
   "metadata": {},
   "outputs": [
    {
     "name": "stderr",
     "output_type": "stream",
     "text": [
      "<>:1: SyntaxWarning: invalid escape sequence '\\B'\n",
      "<>:1: SyntaxWarning: invalid escape sequence '\\B'\n",
      "C:\\Users\\Admin\\AppData\\Local\\Temp\\ipykernel_20272\\4198244736.py:1: SyntaxWarning: invalid escape sequence '\\B'\n",
      "  df_1.to_excel('D:\\Báo cáo tốt nghiệp\\Du lieu\\Ket qua dau ra\\Output xep lich thi\\Output Phân Ngày Thi.xlsx', index=False)\n"
     ]
    }
   ],
   "source": [
    "df_1.to_excel('D:\\Báo cáo tốt nghiệp\\Du lieu\\Ket qua dau ra\\Output xep lich thi\\Output Phân Ngày Thi.xlsx', index=False)"
   ]
  }
 ],
 "metadata": {
  "kernelspec": {
   "display_name": "Python 3",
   "language": "python",
   "name": "python3"
  },
  "language_info": {
   "codemirror_mode": {
    "name": "ipython",
    "version": 3
   },
   "file_extension": ".py",
   "mimetype": "text/x-python",
   "name": "python",
   "nbconvert_exporter": "python",
   "pygments_lexer": "ipython3",
   "version": "3.12.3"
  }
 },
 "nbformat": 4,
 "nbformat_minor": 2
}
