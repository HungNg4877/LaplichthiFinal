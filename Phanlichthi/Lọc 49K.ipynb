{
 "cells": [
  {
   "cell_type": "code",
   "execution_count": 1,
   "metadata": {},
   "outputs": [
    {
     "name": "stderr",
     "output_type": "stream",
     "text": [
      "<>:3: SyntaxWarning: invalid escape sequence '\\D'\n",
      "<>:3: SyntaxWarning: invalid escape sequence '\\D'\n",
      "C:\\Users\\Admin\\AppData\\Local\\Temp\\ipykernel_21928\\4170994694.py:3: SyntaxWarning: invalid escape sequence '\\D'\n",
      "  file_path = 'D:\\Dowload\\DsSV_Kỳ 1 năm học 2023-2024_gửi Hùng.xlsx'\n"
     ]
    },
    {
     "name": "stdout",
     "output_type": "stream",
     "text": [
      "           Lớp    MSV Mã học phần                        Tên học phần  \\\n",
      "0      46K23.1      1     HOS3010  An ninh và an toàn trong khách sạn   \n",
      "1      46K23.1      2     HOS3010  An ninh và an toàn trong khách sạn   \n",
      "2      46K23.1      3     HOS3010  An ninh và an toàn trong khách sạn   \n",
      "3      46K23.1      4     HOS3010  An ninh và an toàn trong khách sạn   \n",
      "4      46K23.1      5     HOS3010  An ninh và an toàn trong khách sạn   \n",
      "...        ...    ...         ...                                 ...   \n",
      "99310  47K13.2  12610     LAW3040          Xây dựng văn bản pháp luật   \n",
      "99311  47K13.2  12611     LAW3040          Xây dựng văn bản pháp luật   \n",
      "99312  47K13.2   2274     LAW3040          Xây dựng văn bản pháp luật   \n",
      "99313  47K13.2  12612     LAW3040          Xây dựng văn bản pháp luật   \n",
      "99314  47K13.2  12432     LAW3040          Xây dựng văn bản pháp luật   \n",
      "\n",
      "      Đề thi TA  Số tín chỉ     Lớp học phần Loại đăng ký HP miễn ngoại ngữ  \\\n",
      "0           NaN           2  HOS3010_46K23.1  Học lần đầu               NaN   \n",
      "1           NaN           2  HOS3010_46K23.1  Học lần đầu               NaN   \n",
      "2           NaN           2  HOS3010_46K23.1  Học lần đầu               NaN   \n",
      "3           NaN           2  HOS3010_46K23.1  Học lần đầu               NaN   \n",
      "4           NaN           2  HOS3010_46K23.1  Học lần đầu               NaN   \n",
      "...         ...         ...              ...          ...               ...   \n",
      "99310       NaN           2  LAW3040_47K13.2  Học lần đầu               NaN   \n",
      "99311       NaN           2  LAW3040_47K13.2  Học lần đầu               NaN   \n",
      "99312       NaN           2  LAW3040_47K13.2  Học lần đầu               NaN   \n",
      "99313       NaN           2  LAW3040_47K13.2  Học lần đầu               NaN   \n",
      "99314       NaN           2  LAW3040_47K13.2  Học lần đầu               NaN   \n",
      "\n",
      "                Ghi chú           Hình thức thi  \n",
      "0                   NaN  Thi viết (Trắc nghiệm)  \n",
      "1                   NaN  Thi viết (Trắc nghiệm)  \n",
      "2                   NaN  Thi viết (Trắc nghiệm)  \n",
      "3                   NaN  Thi viết (Trắc nghiệm)  \n",
      "4                   NaN  Thi viết (Trắc nghiệm)  \n",
      "...                 ...                     ...  \n",
      "99310               NaN      Thi viết (Tự luận)  \n",
      "99311               NaN      Thi viết (Tự luận)  \n",
      "99312               NaN      Thi viết (Tự luận)  \n",
      "99313  SV tạm ngừng học      Thi viết (Tự luận)  \n",
      "99314               NaN      Thi viết (Tự luận)  \n",
      "\n",
      "[99315 rows x 11 columns]\n"
     ]
    }
   ],
   "source": [
    "import pandas as pd\n",
    "# Đường dẫn đến tệp Excel\n",
    "file_path = 'D:\\Dowload\\DsSV_Kỳ 1 năm học 2023-2024_gửi Hùng.xlsx'\n",
    "\n",
    "# Đọc dữ liệu từ tệp Excel\n",
    "df = pd.read_excel(file_path)\n",
    "print(df)"
   ]
  },
  {
   "cell_type": "code",
   "execution_count": 2,
   "metadata": {},
   "outputs": [],
   "source": [
    "# Danh sách các giá trị cần loại bỏ\n",
    "values_to_remove = ['BCTTTN', 'Chấm báo cáo', 'Khóa luận', 'Nộp tiểu luận', 'Nộp tiểu luận + Vấn đáp', \n",
    "                    'Nộp tiểu luận và vấn đáp', 'Thi thực hành trên máy tính', 'Thi vấn đáp', \n",
    "                    'Thi vấn đáp và Thực hành (Video)', '','Thi Vấn đáp']  # Trong trường hợp các dòng trống\n",
    "\n",
    "# Xóa các dòng có giá trị nằm trong danh sách\n",
    "df = df[~df['Hình thức thi'].isin(values_to_remove)]\n",
    "\n"
   ]
  },
  {
   "cell_type": "code",
   "execution_count": 3,
   "metadata": {},
   "outputs": [],
   "source": [
    "# Danh sách các giá trị cần loại bỏ\n",
    "values_to_remove = ['GDTC 1','GDTC 2','GDTC 3','GDTC 4']  # Trong trường hợp các dòng trống\n",
    "\n",
    "# Xóa các dòng có giá trị nằm trong danh sách\n",
    "df = df[~df['Tên học phần'].isin(values_to_remove)]"
   ]
  },
  {
   "cell_type": "code",
   "execution_count": 4,
   "metadata": {},
   "outputs": [
    {
     "name": "stdout",
     "output_type": "stream",
     "text": [
      "           Lớp    MSV Mã học phần                        Tên học phần  \\\n",
      "0      46K23.1      1     HOS3010  An ninh và an toàn trong khách sạn   \n",
      "1      46K23.1      2     HOS3010  An ninh và an toàn trong khách sạn   \n",
      "2      46K23.1      3     HOS3010  An ninh và an toàn trong khách sạn   \n",
      "3      46K23.1      4     HOS3010  An ninh và an toàn trong khách sạn   \n",
      "4      46K23.1      5     HOS3010  An ninh và an toàn trong khách sạn   \n",
      "...        ...    ...         ...                                 ...   \n",
      "99310  47K13.2  12610     LAW3040          Xây dựng văn bản pháp luật   \n",
      "99311  47K13.2  12611     LAW3040          Xây dựng văn bản pháp luật   \n",
      "99312  47K13.2   2274     LAW3040          Xây dựng văn bản pháp luật   \n",
      "99313  47K13.2  12612     LAW3040          Xây dựng văn bản pháp luật   \n",
      "99314  47K13.2  12432     LAW3040          Xây dựng văn bản pháp luật   \n",
      "\n",
      "      Đề thi TA  Số tín chỉ     Lớp học phần Loại đăng ký HP miễn ngoại ngữ  \\\n",
      "0           NaN           2  HOS3010_46K23.1  Học lần đầu               NaN   \n",
      "1           NaN           2  HOS3010_46K23.1  Học lần đầu               NaN   \n",
      "2           NaN           2  HOS3010_46K23.1  Học lần đầu               NaN   \n",
      "3           NaN           2  HOS3010_46K23.1  Học lần đầu               NaN   \n",
      "4           NaN           2  HOS3010_46K23.1  Học lần đầu               NaN   \n",
      "...         ...         ...              ...          ...               ...   \n",
      "99310       NaN           2  LAW3040_47K13.2  Học lần đầu               NaN   \n",
      "99311       NaN           2  LAW3040_47K13.2  Học lần đầu               NaN   \n",
      "99312       NaN           2  LAW3040_47K13.2  Học lần đầu               NaN   \n",
      "99313       NaN           2  LAW3040_47K13.2  Học lần đầu               NaN   \n",
      "99314       NaN           2  LAW3040_47K13.2  Học lần đầu               NaN   \n",
      "\n",
      "                Ghi chú           Hình thức thi  \n",
      "0                   NaN  Thi viết (Trắc nghiệm)  \n",
      "1                   NaN  Thi viết (Trắc nghiệm)  \n",
      "2                   NaN  Thi viết (Trắc nghiệm)  \n",
      "3                   NaN  Thi viết (Trắc nghiệm)  \n",
      "4                   NaN  Thi viết (Trắc nghiệm)  \n",
      "...                 ...                     ...  \n",
      "99310               NaN      Thi viết (Tự luận)  \n",
      "99311               NaN      Thi viết (Tự luận)  \n",
      "99312               NaN      Thi viết (Tự luận)  \n",
      "99313  SV tạm ngừng học      Thi viết (Tự luận)  \n",
      "99314               NaN      Thi viết (Tự luận)  \n",
      "\n",
      "[59516 rows x 11 columns]\n"
     ]
    }
   ],
   "source": [
    "import re\n",
    "\n",
    "# Lựa chọn các dòng có lớp có tiền tố là \"49k\" và không có dạng số ở cuối\n",
    "df = df[~df['Lớp'].str.contains(r'^49K\\d*\\.?')]\n",
    "\n",
    "\n",
    "# In DataFrame sau khi loại bỏ các lớp \"49k\" có nhiều lớp con\n",
    "print(df)"
   ]
  },
  {
   "cell_type": "code",
   "execution_count": 5,
   "metadata": {},
   "outputs": [
    {
     "name": "stderr",
     "output_type": "stream",
     "text": [
      "<>:3: SyntaxWarning: invalid escape sequence '\\B'\n",
      "<>:3: SyntaxWarning: invalid escape sequence '\\B'\n",
      "C:\\Users\\Admin\\AppData\\Local\\Temp\\ipykernel_21928\\196426446.py:3: SyntaxWarning: invalid escape sequence '\\B'\n",
      "  df.to_excel('D:\\Báo cáo tốt nghiệp\\Dữ liệu gốc.xlsx', index=False)\n"
     ]
    }
   ],
   "source": [
    "# In ra kết quả\n",
    "\n",
    "df.to_excel('D:\\Báo cáo tốt nghiệp\\Dữ liệu gốc.xlsx', index=False)"
   ]
  }
 ],
 "metadata": {
  "kernelspec": {
   "display_name": "Python 3",
   "language": "python",
   "name": "python3"
  },
  "language_info": {
   "codemirror_mode": {
    "name": "ipython",
    "version": 3
   },
   "file_extension": ".py",
   "mimetype": "text/x-python",
   "name": "python",
   "nbconvert_exporter": "python",
   "pygments_lexer": "ipython3",
   "version": "3.12.3"
  }
 },
 "nbformat": 4,
 "nbformat_minor": 2
}
