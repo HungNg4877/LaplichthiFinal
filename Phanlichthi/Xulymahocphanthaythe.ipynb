{
 "cells": [
  {
   "cell_type": "code",
   "execution_count": 1,
   "metadata": {},
   "outputs": [
    {
     "name": "stderr",
     "output_type": "stream",
     "text": [
      "<>:3: SyntaxWarning: invalid escape sequence '\\B'\n",
      "<>:5: SyntaxWarning: invalid escape sequence '\\B'\n",
      "<>:7: SyntaxWarning: invalid escape sequence '\\B'\n",
      "<>:3: SyntaxWarning: invalid escape sequence '\\B'\n",
      "<>:5: SyntaxWarning: invalid escape sequence '\\B'\n",
      "<>:7: SyntaxWarning: invalid escape sequence '\\B'\n",
      "C:\\Users\\Admin\\AppData\\Local\\Temp\\ipykernel_28324\\3955025400.py:3: SyntaxWarning: invalid escape sequence '\\B'\n",
      "  file_path_1 = 'D:\\Báo cáo tốt nghiệp\\Dữ liệu gốc.xlsx'\n",
      "C:\\Users\\Admin\\AppData\\Local\\Temp\\ipykernel_28324\\3955025400.py:5: SyntaxWarning: invalid escape sequence '\\B'\n",
      "  file_path_2 = 'D:\\Báo cáo tốt nghiệp\\Dữ liệu DSSV CT2.xlsx'\n",
      "C:\\Users\\Admin\\AppData\\Local\\Temp\\ipykernel_28324\\3955025400.py:7: SyntaxWarning: invalid escape sequence '\\B'\n",
      "  file_path_3 = 'D:\\Báo cáo tốt nghiệp\\Dữ liệu Học phần thay thế.xlsx'\n"
     ]
    }
   ],
   "source": [
    "import pandas as pd\n",
    "# Đường dẫn đến tệp Excel\n",
    "file_path_1 = 'D:\\Báo cáo tốt nghiệp\\Dữ liệu gốc.xlsx'\n",
    "\n",
    "file_path_2 = 'D:\\Báo cáo tốt nghiệp\\Dữ liệu DSSV CT2.xlsx'\n",
    "\n",
    "file_path_3 = 'D:\\Báo cáo tốt nghiệp\\Dữ liệu Học phần thay thế.xlsx'\n",
    "# Đọc dữ liệu từ tệp Excel\n",
    "df_1 = pd.read_excel(file_path_1)\n",
    "df_2 = pd.read_excel(file_path_2)\n",
    "df_3 = pd.read_excel(file_path_3)"
   ]
  },
  {
   "cell_type": "code",
   "execution_count": 5,
   "metadata": {},
   "outputs": [
    {
     "name": "stdout",
     "output_type": "stream",
     "text": [
      "               Lớp           CT2  MSV_CT2          CT 1  MSV_CT1\n",
      "0   KT.45K06_CT2.1  191331006101      477  181121505123      NaN\n",
      "1   KT.46K01_CT2.1  201321601101      478  191122015450      NaN\n",
      "2   KT.46K02_CT2.1  201321302101     5034  191121927103      NaN\n",
      "3   KT.46K02_CT2.1  201321302102     5035  191121927110    468.0\n",
      "4   KT.46K06_CT2.1  201321006101     4696  181120913203      NaN\n",
      "5   KT.46K06_CT2.1  201321006103    12021  191121505130      NaN\n",
      "6   KT.46K06_CT2.1  201321006104    12087  181120919140      NaN\n",
      "7   KT.46K06_CT2.1  201321006102    12340  191121601309      NaN\n",
      "8   KT.46K06_CT2.2  201321006201     5233  191121104203  11252.0\n",
      "9   KT.46K08_CT2.1  201324008101    10888  191120919113      NaN\n",
      "10  KT.46K12_CT2.1  201323012101      480  181121302249      NaN\n",
      "11  KT.46K13_CT2.2  201320913201     4044  181123012313      NaN\n",
      "12  KT.46K15_CT2.1  201322015101     5727  191121927109      NaN\n",
      "13  KT.46K15_CT2.2  201322015201      481  181121521214      NaN\n",
      "14  KT.46K16_CT2.1  201322016101    11549  191121209103      NaN\n",
      "15  KT.46K18_CT2.1  201321018102     3126  181121723410      NaN\n",
      "16  KT.46K23_CT2.1  201321723101       91  191120919141  11626.0\n",
      "17  KT.46K29_CT2.1  201324029102    11225  191121521124      NaN\n",
      "18  KT.46K29_CT2.1  201324029104    12248  191121601343      NaN\n"
     ]
    }
   ],
   "source": [
    "print(df_2)"
   ]
  },
  {
   "cell_type": "code",
   "execution_count": 9,
   "metadata": {},
   "outputs": [],
   "source": [
    "def process_sv_thoi_hoc(df_1):\n",
    "    conditions = ['SV đã thôi học', 'SV rút HP', 'SV tạm ngừng học']\n",
    "    mask = ~df_1['Ghi chú'].str.contains('|'.join(conditions), case=False, na=False)\n",
    "    return df_1[mask]\n",
    "df_1 = process_sv_thoi_hoc(df_1)"
   ]
  },
  {
   "cell_type": "code",
   "execution_count": 10,
   "metadata": {},
   "outputs": [
    {
     "name": "stderr",
     "output_type": "stream",
     "text": [
      "<>:1: SyntaxWarning: invalid escape sequence '\\B'\n",
      "<>:1: SyntaxWarning: invalid escape sequence '\\B'\n",
      "C:\\Users\\Admin\\AppData\\Local\\Temp\\ipykernel_28324\\2936297414.py:1: SyntaxWarning: invalid escape sequence '\\B'\n",
      "  df_1.to_excel('D:\\Báo cáo tốt nghiệp\\OutputXulycacrangbuoc.xlsx', index=False)\n"
     ]
    }
   ],
   "source": [
    "\n",
    "df_1.to_excel('D:\\Báo cáo tốt nghiệp\\OutputXulycacrangbuoc.xlsx', index=False)"
   ]
  }
 ],
 "metadata": {
  "kernelspec": {
   "display_name": "Python 3",
   "language": "python",
   "name": "python3"
  },
  "language_info": {
   "codemirror_mode": {
    "name": "ipython",
    "version": 3
   },
   "file_extension": ".py",
   "mimetype": "text/x-python",
   "name": "python",
   "nbconvert_exporter": "python",
   "pygments_lexer": "ipython3",
   "version": "3.12.3"
  }
 },
 "nbformat": 4,
 "nbformat_minor": 2
}
