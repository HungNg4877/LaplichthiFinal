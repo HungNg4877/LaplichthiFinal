{
 "cells": [
  {
   "cell_type": "code",
   "execution_count": 7,
   "metadata": {},
   "outputs": [
    {
     "name": "stderr",
     "output_type": "stream",
     "text": [
      "<>:3: SyntaxWarning: invalid escape sequence '\\B'\n",
      "<>:5: SyntaxWarning: invalid escape sequence '\\D'\n",
      "<>:3: SyntaxWarning: invalid escape sequence '\\B'\n",
      "<>:5: SyntaxWarning: invalid escape sequence '\\D'\n",
      "C:\\Users\\Admin\\AppData\\Local\\Temp\\ipykernel_15716\\313442099.py:3: SyntaxWarning: invalid escape sequence '\\B'\n",
      "  file_path_1 = 'D:\\Báo cáo tốt nghiệp\\Dữ liệu gốc.xlsx'\n",
      "C:\\Users\\Admin\\AppData\\Local\\Temp\\ipykernel_15716\\313442099.py:5: SyntaxWarning: invalid escape sequence '\\D'\n",
      "  file_path_2 = 'D:\\Dowload\\DSSV CT2 HK 1 23-24 - Gửi Hùng.xlsx'\n"
     ]
    },
    {
     "name": "stdout",
     "output_type": "stream",
     "text": [
      "               Lớp           CT2  MSV_CT2          CT 1  MSV_CT1\n",
      "0   KT.45K06_CT2.1  191331006101      477  181121505123      NaN\n",
      "1   KT.46K01_CT2.1  201321601101      478  191122015450      NaN\n",
      "2   KT.46K02_CT2.1  201321302101     5034  191121927103      NaN\n",
      "3   KT.46K02_CT2.1  201321302102     5035  191121927110    468.0\n",
      "4   KT.46K06_CT2.1  201321006101     4696  181120913203      NaN\n",
      "5   KT.46K06_CT2.1  201321006103    12021  191121505130      NaN\n",
      "6   KT.46K06_CT2.1  201321006104    12087  181120919140      NaN\n",
      "7   KT.46K06_CT2.1  201321006102    12340  191121601309      NaN\n",
      "8   KT.46K06_CT2.2  201321006201     5233  191121104203  11252.0\n",
      "9   KT.46K08_CT2.1  201324008101    10888  191120919113      NaN\n",
      "10  KT.46K12_CT2.1  201323012101      480  181121302249      NaN\n",
      "11  KT.46K13_CT2.2  201320913201     4044  181123012313      NaN\n",
      "12  KT.46K15_CT2.1  201322015101     5727  191121927109      NaN\n",
      "13  KT.46K15_CT2.2  201322015201      481  181121521214      NaN\n",
      "14  KT.46K16_CT2.1  201322016101    11549  191121209103      NaN\n",
      "15  KT.46K18_CT2.1  201321018102     3126  181121723410      NaN\n",
      "16  KT.46K23_CT2.1  201321723101       91  191120919141  11626.0\n",
      "17  KT.46K29_CT2.1  201324029102    11225  191121521124      NaN\n",
      "18  KT.46K29_CT2.1  201324029104    12248  191121601343      NaN\n"
     ]
    }
   ],
   "source": [
    "import pandas as pd\n",
    "# Đường dẫn đến tệp Excel\n",
    "file_path_1 = 'D:\\Báo cáo tốt nghiệp\\Dữ liệu gốc.xlsx'\n",
    "\n",
    "file_path_2 = 'D:\\Dowload\\DSSV CT2 HK 1 23-24 - Gửi Hùng.xlsx'\n",
    "# Đọc dữ liệu từ tệp Excel\n",
    "df_1 = pd.read_excel(file_path_1)\n",
    "df_2 = pd.read_excel(file_path_2)\n",
    "print(df_2)\n"
   ]
  },
  {
   "cell_type": "code",
   "execution_count": 8,
   "metadata": {},
   "outputs": [
    {
     "name": "stdout",
     "output_type": "stream",
     "text": [
      "{0: 12248, 468: 5035, 11252: 5233, 11626: 91}\n",
      "{0, 11626, 468, 11252}\n"
     ]
    }
   ],
   "source": [
    "df_1['Ghi chú 2']=\"\"\n",
    "df_2['MSV_CT1'] = df_2['MSV_CT1'].fillna(0).astype(int)\n",
    "msv_ct1_values = set(df_2['MSV_CT1'])\n",
    "msv_ct_mapping = dict(zip(df_2['MSV_CT1'], df_2['MSV_CT2']))\n",
    "mask = df_1['MSV'].isin(msv_ct1_values)\n",
    "df_1.loc[mask, 'Ghi chú 2'] = df_1.loc[mask, 'MSV'].map(lambda x: f\"MSV_C1: {x}\")\n",
    "df_1['MSV'] = df_1['MSV'].apply(lambda x: msv_ct_mapping[x] if x in msv_ct1_values else x)\n",
    "print(msv_ct_mapping)\n",
    "\n",
    "\n",
    "# # print(msv_ct1_list)\n",
    "# print(df_2)\n",
    "print(msv_ct1_values)\n",
    "# print(msv_ct2_values)\n"
   ]
  },
  {
   "cell_type": "code",
   "execution_count": 9,
   "metadata": {},
   "outputs": [
    {
     "name": "stderr",
     "output_type": "stream",
     "text": [
      "<>:1: SyntaxWarning: invalid escape sequence '\\B'\n",
      "<>:1: SyntaxWarning: invalid escape sequence '\\B'\n",
      "C:\\Users\\Admin\\AppData\\Local\\Temp\\ipykernel_15716\\2561021071.py:1: SyntaxWarning: invalid escape sequence '\\B'\n",
      "  df_1.to_excel('D:\\Báo cáo tốt nghiệp\\XulySV2CT.xlsx', index=False)\n"
     ]
    }
   ],
   "source": [
    "df_1.to_excel('D:\\Báo cáo tốt nghiệp\\XulySV2CT.xlsx', index=False)"
   ]
  }
 ],
 "metadata": {
  "kernelspec": {
   "display_name": "Python 3",
   "language": "python",
   "name": "python3"
  },
  "language_info": {
   "codemirror_mode": {
    "name": "ipython",
    "version": 3
   },
   "file_extension": ".py",
   "mimetype": "text/x-python",
   "name": "python",
   "nbconvert_exporter": "python",
   "pygments_lexer": "ipython3",
   "version": "3.12.2"
  }
 },
 "nbformat": 4,
 "nbformat_minor": 2
}
