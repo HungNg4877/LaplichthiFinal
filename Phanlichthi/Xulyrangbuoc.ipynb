{
 "cells": [
  {
   "cell_type": "code",
   "execution_count": 1,
   "metadata": {},
   "outputs": [
    {
     "name": "stderr",
     "output_type": "stream",
     "text": [
      "<>:3: SyntaxWarning: invalid escape sequence '\\B'\n",
      "<>:5: SyntaxWarning: invalid escape sequence '\\B'\n",
      "<>:7: SyntaxWarning: invalid escape sequence '\\B'\n",
      "<>:3: SyntaxWarning: invalid escape sequence '\\B'\n",
      "<>:5: SyntaxWarning: invalid escape sequence '\\B'\n",
      "<>:7: SyntaxWarning: invalid escape sequence '\\B'\n",
      "C:\\Users\\Admin\\AppData\\Local\\Temp\\ipykernel_27336\\3486461634.py:3: SyntaxWarning: invalid escape sequence '\\B'\n",
      "  file_path_1 = 'D:\\Báo cáo tốt nghiệp\\Du lieu\\Du lieu dau vao\\Dữ liệu DSSVthiHK.xlsx'\n",
      "C:\\Users\\Admin\\AppData\\Local\\Temp\\ipykernel_27336\\3486461634.py:5: SyntaxWarning: invalid escape sequence '\\B'\n",
      "  file_path_2 = 'D:\\Báo cáo tốt nghiệp\\Du lieu\\Du lieu dau vao\\Dữ liệu DSSV CT2.xlsx'\n",
      "C:\\Users\\Admin\\AppData\\Local\\Temp\\ipykernel_27336\\3486461634.py:7: SyntaxWarning: invalid escape sequence '\\B'\n",
      "  file_path_3 = 'D:\\Báo cáo tốt nghiệp\\Du lieu\\Du lieu dau vao\\Dữ liệu Học phần thay thế.xlsx'\n"
     ]
    }
   ],
   "source": [
    "import pandas as pd\n",
    "# Đường dẫn đến tệp Excel\n",
    "file_path_1 = 'D:\\Báo cáo tốt nghiệp\\Du lieu\\Du lieu dau vao\\Dữ liệu DSSVthiHK.xlsx'\n",
    "\n",
    "file_path_2 = 'D:\\Báo cáo tốt nghiệp\\Du lieu\\Du lieu dau vao\\Dữ liệu DSSV CT2.xlsx'\n",
    "\n",
    "file_path_3 = 'D:\\Báo cáo tốt nghiệp\\Du lieu\\Du lieu dau vao\\Dữ liệu Học phần thay thế.xlsx'\n",
    "# Đọc dữ liệu từ tệp Excel\n",
    "df_1 = pd.read_excel(file_path_1)\n",
    "df_2 = pd.read_excel(file_path_2)\n",
    "df_3 = pd.read_excel(file_path_3)\n"
   ]
  },
  {
   "cell_type": "code",
   "execution_count": 6,
   "metadata": {},
   "outputs": [
    {
     "name": "stdout",
     "output_type": "stream",
     "text": [
      "{'ACC1001': 'ACC1002', 'ENG2011': 'ENG2015', 'ENG2013': 'ENG2016', 'ENG2012': 'ENG2017', 'ENG2014': 'ENG2017', 'ENG1012': 'ENGELE1', 'ENG1013': 'ENGELE2', 'LAW3034': 'LAW3042', 'MIS1001': 'MIS1002', 'SMT1001': 'SMT1005', 'SMT1002': 'SMT1006', 'SMT1003': 'SMT1008', 'STA2003': 'STA2006', 'STA2005': 'STA2006', 'TOU3019': 'TOU3056'}\n"
     ]
    }
   ],
   "source": [
    "# mhptt_mapping = dict(zip(df_3['Mã học phần'], df_3['Mã học phần thay thế']))\n",
    "# print(mhptt_mapping)\n",
    "\n",
    "mhptt_mapping_1 = {}\n",
    "for i in range(len(df_3['Mã học phần'])):\n",
    "    mhptt_mapping_1[df_3['Mã học phần'][i]] = df_3['Mã học phần thay thế'][i]\n",
    "\n",
    "print(mhptt_mapping_1)\n"
   ]
  },
  {
   "cell_type": "code",
   "execution_count": 51,
   "metadata": {},
   "outputs": [],
   "source": [
    "def process_replacement_course_codes(df_1, df_3):\n",
    "\n",
    "    df_1['Mã học phần mở rộng']=df_1['Mã học phần'].copy()\n",
    "    # Tạo danh sách các mã học phần cũ ở cột MHP ở df3\n",
    "    mhp_old = set(df_3['Mã học phần'])\n",
    "    # Tạo từ điển mapping giữa mã học phần cũ và mã học phần thay thế\n",
    "    mhptt_mapping = dict(zip(df_3['Mã học phần'], df_3['Mã học phần thay thế']))\n",
    "    #\n",
    "    # mhptt_mapping = {}\n",
    "    # for i in range(len(df_3['Mã học phần'])):\n",
    "    #     mhptt_mapping[df_3['Mã học phần'][i]] = df_3['Mã học phần thay thế'][i]\n",
    "    # Tạo danh sách các mã học phần ở df1 trùng với mã học phần cũ\n",
    "    mask = df_1['Mã học phần mở rộng'].isin(mhp_old)\n",
    "    # Cập nhật vào cột Ghi chú ở df1 \n",
    "    df_1.loc[mask, 'Ghi chú'] = df_1.loc[mask, 'Mã học phần mở rộng'].map(lambda x: f\"Mã học phần cũ: {x}\")\n",
    "    # Cập nhật trong cột Mã học phần ở df1\n",
    "    df_1['Mã học phần mở rộng'] = df_1['Mã học phần mở rộng'].apply(lambda x: mhptt_mapping[x] if x in mhp_old else x)\n",
    "    return df_1\n",
    "# Gọi hàm process_replacement_course_codes trên DataFrame df_1 và df_3\n",
    "df_1 = process_replacement_course_codes(df_1, df_3)\n",
    "\n",
    "\n"
   ]
  },
  {
   "cell_type": "code",
   "execution_count": 52,
   "metadata": {},
   "outputs": [],
   "source": [
    "# mhp_values=set(df_3['Mã học phần'])\n",
    "# mhptt_mapping=dict(zip(df_3['Mã học phần'],df_3['Mã học phần thay thế']))\n",
    "# mask=df_1['Mã học phần'].isin(mhp_values)\n",
    "# df_1.loc[mask,'Ghi chú']=df_1.loc[mask,'Mã học phần'].map(\"Mã học phần cũ: {}\".format)\n",
    "# df_1['Mã học phần']=df_1['Mã học phần'].apply(lambda x: mhptt_mapping[x] if x in mhp_values else x)\n",
    "# df_1.loc\n",
    "# print(mhp_values)\n"
   ]
  },
  {
   "cell_type": "code",
   "execution_count": 53,
   "metadata": {},
   "outputs": [],
   "source": [
    "# conditions='Mã học phần cũ: ENG2014'\n",
    "# check = df_1[df_1['Ghi chú'].str.contains(conditions, na=False,case=False)]\n",
    "# print(check)"
   ]
  },
  {
   "cell_type": "code",
   "execution_count": 54,
   "metadata": {},
   "outputs": [],
   "source": [
    "def process_students_with_2_CT(df_1, df_2):\n",
    "    # Tạo 1 cột Ghi chú 2 ở df1\n",
    "    # df_1['Ghi chú 2'] = \"\"\n",
    "    df_1['MSV mở rộng']=df_1['MSV'].copy()\n",
    "    \n",
    "    \n",
    "    # Xử lý các giá trị nan và đổi kiểu dữ liệu của cột sang int\n",
    "    df_2['MSV_CT1'] = df_2['MSV_CT1'].fillna(0).astype(int)\n",
    "    # Tạo danh sách các MSV CT 1 từ df2\n",
    "    msv_ct1_values = set(df_2['MSV_CT1'])\n",
    "    # Tạo từ điển mapping giữa MSV CT 1 và MSV CT 2\n",
    "    msv_ct_mapping = dict(zip(df_2['MSV_CT1'], df_2['MSV_CT2']))\n",
    "    # Tạo danh sách các MSV ở df1 trùng với MSV CT1\n",
    "    mask = df_1['MSV mở rộng'].isin(msv_ct1_values)\n",
    "    # Cập nhật vào cột Ghi chú 2\n",
    "    # df_1.loc[mask, 'Ghi chú 2'] = df_1.loc[mask, 'MSV mở rộng'].map(lambda x: f\"MSV_CT1: {x}\")\n",
    "    # Cập nhật trong MSV ở df1\n",
    "    df_1['MSV mở rộng'] = df_1['MSV mở rộng'].apply(lambda x: msv_ct_mapping[x] if x in msv_ct1_values else x)\n",
    "    return df_1\n",
    "# Gọi hàm process_students_with_2_CT trên DataFrame df_1 và df_2\n",
    "df_1 = process_students_with_2_CT(df_1, df_2)\n"
   ]
  },
  {
   "cell_type": "code",
   "execution_count": 55,
   "metadata": {},
   "outputs": [],
   "source": [
    "def process_sv_thoi_hoc(df_1):\n",
    "    conditions = ['SV đã thôi học', 'SV rút HP', 'SV tạm ngừng học']\n",
    "    mask = ~df_1['Ghi chú'].str.contains('|'.join(conditions), case=False, na=False)\n",
    "    return df_1[mask]\n",
    "df_1 = process_sv_thoi_hoc(df_1)"
   ]
  },
  {
   "cell_type": "code",
   "execution_count": 56,
   "metadata": {},
   "outputs": [],
   "source": [
    "def process_sv_mienTA(df_1):\n",
    "    condition = 'Miễn'\n",
    "    return df_1[~df_1['HP miễn ngoại ngữ'].str.contains(condition, case=False, na=False)]\n",
    "df_1 =  process_sv_mienTA(df_1)"
   ]
  },
  {
   "cell_type": "code",
   "execution_count": 57,
   "metadata": {},
   "outputs": [],
   "source": [
    "def process_TA_HP(df_1):\n",
    "    for index, row in df_1.iterrows():\n",
    "        if isinstance(row['Đề thi TA'], str) and 'x' in row['Đề thi TA']:\n",
    "            df_1.at[index, 'Mã học phần'] += '_Anh'\n",
    "    return df_1\n",
    "df_1 = process_TA_HP(df_1)\n",
    "\n"
   ]
  },
  {
   "cell_type": "code",
   "execution_count": 58,
   "metadata": {},
   "outputs": [],
   "source": [
    "def XLTL(df_1):\n",
    "    df_1 = df_1.drop_duplicates(subset=['MSV', 'Mã học phần'], keep='first')\n",
    "    return df_1\n",
    "df_1=XLTL(df_1)"
   ]
  },
  {
   "cell_type": "code",
   "execution_count": 9,
   "metadata": {},
   "outputs": [
    {
     "name": "stdout",
     "output_type": "stream",
     "text": [
      "MSV    Mã học phần\n",
      "1      HOS3010        1\n",
      "       TOU3026        1\n",
      "2      HOS3010        1\n",
      "       TOU3026        1\n",
      "3      ENG2011        1\n",
      "                     ..\n",
      "13390  MAT1001        1\n",
      "13391  MAT1001        1\n",
      "13392  SMT1005        1\n",
      "13393  SMT1005        1\n",
      "13397  SMT1004        1\n",
      "Length: 59260, dtype: int64\n"
     ]
    }
   ],
   "source": [
    "duplicate_schedule = df_1.groupby(['MSV', 'Mã học phần']).size()\n",
    "print(duplicate_schedule)"
   ]
  },
  {
   "cell_type": "code",
   "execution_count": 14,
   "metadata": {},
   "outputs": [
    {
     "name": "stdout",
     "output_type": "stream",
     "text": [
      "252\n"
     ]
    }
   ],
   "source": [
    "# Nhóm dữ liệu theo cột 'MSV' và 'Ca thi', sau đó đếm số lượng dòng trong mỗi nhóm\n",
    "duplicate_schedule = df_1.groupby(['MSV', 'Mã học phần']).size().reset_index(name='Count')\n",
    "\n",
    "# Lọc ra các nhóm có số lượng dòng lớn hơn 1, tức là các MSV bị trùng lịch thi\n",
    "duplicated_students = duplicate_schedule[duplicate_schedule['Count'] > 1]\n",
    "duplicated_students_values=duplicated_students['MSV'].tolist()\n",
    "\n",
    "print(len(duplicated_students_values))"
   ]
  },
  {
   "cell_type": "code",
   "execution_count": 59,
   "metadata": {},
   "outputs": [],
   "source": [
    "# unique_values = df_1[df_1['Mã học phần'].str.endswith(\"Anh\")]['Mã học phần'].unique()\n",
    "# Len_value=len(unique_values)\n",
    "# print(Len_value)"
   ]
  },
  {
   "cell_type": "code",
   "execution_count": 60,
   "metadata": {},
   "outputs": [],
   "source": [
    "\n",
    "# conditions='x'\n",
    "# mhpTA=df_1[df_1['Đề thi TA'].str.contains(conditions,case=False,na=False)]['Mã học phần'].unique()\n",
    "# mhpTA_list=mhpTA.tolist()\n",
    "# print(mhpTA_list)\n",
    "# for index,row in df_1.iterrows():\n",
    "#     if isinstance(row['Đề thi TA'],str) and 'x' in row['Đề thi TA']:\n",
    "#         df_1.at[index,'Mã học phần'] += '_Anh'"
   ]
  },
  {
   "cell_type": "code",
   "execution_count": 61,
   "metadata": {},
   "outputs": [],
   "source": [
    "# df_1.drop_duplicates(subset=['Mã học phần mở rộng'], inplace=True)\n"
   ]
  },
  {
   "cell_type": "code",
   "execution_count": 62,
   "metadata": {},
   "outputs": [
    {
     "name": "stderr",
     "output_type": "stream",
     "text": [
      "<>:1: SyntaxWarning: invalid escape sequence '\\B'\n",
      "<>:1: SyntaxWarning: invalid escape sequence '\\B'\n",
      "C:\\Users\\Admin\\AppData\\Local\\Temp\\ipykernel_18368\\3089260974.py:1: SyntaxWarning: invalid escape sequence '\\B'\n",
      "  df_1.to_excel('D:\\Báo cáo tốt nghiệp\\Check.xlsx', index=False)\n"
     ]
    }
   ],
   "source": [
    "\n",
    "df_1.to_excel('D:\\Báo cáo tốt nghiệp\\Check.xlsx', index=False)"
   ]
  }
 ],
 "metadata": {
  "kernelspec": {
   "display_name": "Python 3",
   "language": "python",
   "name": "python3"
  },
  "language_info": {
   "codemirror_mode": {
    "name": "ipython",
    "version": 3
   },
   "file_extension": ".py",
   "mimetype": "text/x-python",
   "name": "python",
   "nbconvert_exporter": "python",
   "pygments_lexer": "ipython3",
   "version": "3.12.3"
  }
 },
 "nbformat": 4,
 "nbformat_minor": 2
}
